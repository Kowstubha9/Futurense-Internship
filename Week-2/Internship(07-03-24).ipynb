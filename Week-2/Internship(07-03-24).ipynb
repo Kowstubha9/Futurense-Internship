{
 "cells": [
  {
   "cell_type": "code",
   "execution_count": 43,
   "id": "45c8d0cb",
   "metadata": {},
   "outputs": [
    {
     "name": "stdout",
     "output_type": "stream",
     "text": [
      "Given tuple of lists: ([5, 6], [4])\n",
      "Flatten tuple: (5, 6, 4)\n"
     ]
    }
   ],
   "source": [
    "#python program to flatten tuple of list to tuple\n",
    "tl=([5,6],[4])\n",
    "print(\"Given tuple of lists:\",tl)\n",
    "t=[]\n",
    "for i in tl:\n",
    "    for j in i:\n",
    "        t.append(j)\n",
    "res=tuple(t)\n",
    "print(\"Flatten tuple:\",res)"
   ]
  },
  {
   "cell_type": "code",
   "execution_count": 3,
   "id": "79153e20",
   "metadata": {},
   "outputs": [
    {
     "name": "stdout",
     "output_type": "stream",
     "text": [
      "Given set: {1, 2, 3, 4}\n",
      "After converting given set into tuple: (1, 2, 3, 4)\n",
      "Given tuple: (1, 1, 2, 3, 4)\n",
      "After converting given tuple into set: {1, 2, 3, 4}\n"
     ]
    }
   ],
   "source": [
    "#python program to convert set into tuple and tuple into set\n",
    "s={1,2,3,4}\n",
    "print(\"Given set:\",s)\n",
    "t=tuple(s)\n",
    "print(\"After converting given set into tuple:\",t)\n",
    "t1=(1,1,2,3,4)\n",
    "print(\"Given tuple:\",t1)\n",
    "print(\"After converting given tuple into set:\",set(t1))"
   ]
  },
  {
   "cell_type": "code",
   "execution_count": 84,
   "id": "35917aad",
   "metadata": {},
   "outputs": [
    {
     "name": "stdout",
     "output_type": "stream",
     "text": [
      "([5, 'Ram'], [15, 'Renu'])\n"
     ]
    }
   ],
   "source": [
    "l=[{\"s.no\":5,\"Name\":\"Ram\"},{\"s.no\":15,\"Name\":\"Renu\"}]\n",
    "l1=[]\n",
    "for i in l:\n",
    "    for j in i:\n",
    "        a=(i[j])\n",
    "        l1.append(a)\n",
    "a=len(l[0])\n",
    "x=l1[:a]\n",
    "y=l1[a:]\n",
    "l2=[x,y]\n",
    "print(tuple(l2))"
   ]
  },
  {
   "cell_type": "code",
   "execution_count": 9,
   "id": "d490f0ee",
   "metadata": {},
   "outputs": [
    {
     "name": "stdout",
     "output_type": "stream",
     "text": [
      "Given tuple list: [(0, 25, 36), (5, 62, 14), (9, 4, 5)]\n",
      "Enter the index to sort:2\n",
      "Tuple list after sorting according to index 2 : [(9, 4, 5), (5, 62, 14), (0, 25, 36)]\n"
     ]
    }
   ],
   "source": [
    "from operator import itemgetter\n",
    "tl = [(0,25,36), (5,62,14), (9,4,5)]\n",
    "print(\"Given tuple list: \" + str(tl))\n",
    "N = int(input(\"Enter the index to sort:\"))\n",
    "tl.sort(key = itemgetter(N)) \n",
    "print(\"Tuple list after sorting according to index\", N,\": \" + str(tl))"
   ]
  },
  {
   "cell_type": "code",
   "execution_count": 46,
   "id": "0f2b096c",
   "metadata": {},
   "outputs": [
    {
     "name": "stdout",
     "output_type": "stream",
     "text": [
      "The common elements are present at the indices: (1, 2)\n"
     ]
    }
   ],
   "source": [
    "t1=([1,2],[3,4],[5,6],[7,8])\n",
    "t2=([1,3],[3,4],[5,6],[9,8])\n",
    "l=[]\n",
    "for i in t1:\n",
    "    for j in t2:\n",
    "        if(i==j):\n",
    "            x=t1.index(i)\n",
    "            l.append(x)\n",
    "print(\"The common elements are present at the indices:\",tuple(l))"
   ]
  },
  {
   "cell_type": "code",
   "execution_count": 16,
   "id": "ce74092e",
   "metadata": {},
   "outputs": [
    {
     "name": "stdout",
     "output_type": "stream",
     "text": [
      "[{'student_id': 15, 'Name': 'Ram'}, {'student_id': 27, 'Name': 'Kavya'}]\n"
     ]
    }
   ],
   "source": [
    "d1=[{\"student_id\":[15,27]},{\"Name\":[\"Ram\",\"Kavya\"]}]\n",
    "l=[]\n",
    "for i in range(len(d1)):\n",
    "    a={}\n",
    "    l.append(a)\n",
    "k = 0\n",
    "for i in d1:\n",
    "    for key, val in i.items(): \n",
    "        for j in val:\n",
    "            l[k][key] = j\n",
    "            k += 1\n",
    "        k = 0\n",
    "print(l)"
   ]
  },
  {
   "cell_type": "code",
   "execution_count": null,
   "id": "d704251a",
   "metadata": {},
   "outputs": [],
   "source": []
  }
 ],
 "metadata": {
  "kernelspec": {
   "display_name": "Python 3 (ipykernel)",
   "language": "python",
   "name": "python3"
  },
  "language_info": {
   "codemirror_mode": {
    "name": "ipython",
    "version": 3
   },
   "file_extension": ".py",
   "mimetype": "text/x-python",
   "name": "python",
   "nbconvert_exporter": "python",
   "pygments_lexer": "ipython3",
   "version": "3.10.9"
  }
 },
 "nbformat": 4,
 "nbformat_minor": 5
}
