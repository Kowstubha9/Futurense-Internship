{
 "cells": [
  {
   "cell_type": "code",
   "execution_count": 1,
   "id": "fc289588",
   "metadata": {},
   "outputs": [
    {
     "name": "stdout",
     "output_type": "stream",
     "text": [
      "Enter first number:20\n",
      "Enter second number:4\n",
      "24\n"
     ]
    }
   ],
   "source": [
    "a=int(input(\"Enter first number:\"))\n",
    "b=int(input(\"Enter second number:\"))\n",
    "print(a+b)"
   ]
  },
  {
   "cell_type": "code",
   "execution_count": 2,
   "id": "693885fa",
   "metadata": {},
   "outputs": [
    {
     "name": "stdout",
     "output_type": "stream",
     "text": [
      "Enter first number:6\n",
      "Enter second number:9\n",
      "9\n"
     ]
    }
   ],
   "source": [
    "a=int(input(\"Enter first number:\"))\n",
    "b=int(input(\"Enter second number:\"))\n",
    "l=[a,b]\n",
    "print(max(l))"
   ]
  },
  {
   "cell_type": "code",
   "execution_count": 3,
   "id": "87468ebe",
   "metadata": {},
   "outputs": [
    {
     "name": "stdout",
     "output_type": "stream",
     "text": [
      "Enter a number:5\n",
      "120\n"
     ]
    }
   ],
   "source": [
    "def factorial(n):\n",
    "    if n<1:\n",
    "        return 1\n",
    "    else: \n",
    "        return n*factorial(n-1)\n",
    "n=int(input(\"Enter a number:\"))\n",
    "print(factorial(n))"
   ]
  },
  {
   "cell_type": "code",
   "execution_count": 4,
   "id": "c2582135",
   "metadata": {},
   "outputs": [
    {
     "name": "stdout",
     "output_type": "stream",
     "text": [
      "Enter principal:1000\n",
      "Enter time:2\n",
      "Enter rate of interest:5\n",
      "100.0\n"
     ]
    }
   ],
   "source": [
    "p=int(input(\"Enter principal:\"))\n",
    "t=int(input(\"Enter time:\"))\n",
    "r=int(input(\"Enter rate of interest:\"))\n",
    "SI=(p*t*r)/100\n",
    "print(SI)"
   ]
  },
  {
   "cell_type": "code",
   "execution_count": 5,
   "id": "82c4f5ff",
   "metadata": {},
   "outputs": [
    {
     "name": "stdout",
     "output_type": "stream",
     "text": [
      "Enter principal:2000\n",
      "Enter time:1.5\n",
      "Enter rate of interest:10\n",
      "Enter number of times interest is compounded per year:2\n",
      "430000.0\n"
     ]
    }
   ],
   "source": [
    "p=float(input(\"Enter principal:\"))\n",
    "t=float(input(\"Enter time:\"))\n",
    "r=float(input(\"Enter rate of interest:\"))\n",
    "n=float(input(\"Enter number of times interest is compounded per year:\"))\n",
    "CI=(p*((1+r/n)**(n*t)))-p\n",
    "print(CI)"
   ]
  },
  {
   "cell_type": "code",
   "execution_count": 6,
   "id": "8d0c132e",
   "metadata": {},
   "outputs": [
    {
     "name": "stdout",
     "output_type": "stream",
     "text": [
      "Enter number:153\n",
      "Armstrong number\n"
     ]
    }
   ],
   "source": [
    "def armstrong(n):\n",
    "    l=list(str(n))\n",
    "    a=[]\n",
    "    for i in range(len(l)):\n",
    "        a.append(int(l[i])**len(l))\n",
    "    if(n==sum(a)):\n",
    "        print(\"Armstrong number\")\n",
    "    else:\n",
    "        print(\"Not armstrong number\")\n",
    "x=int(input(\"Enter number:\"))\n",
    "armstrong(x)"
   ]
  },
  {
   "cell_type": "code",
   "execution_count": 7,
   "id": "01c307e5",
   "metadata": {},
   "outputs": [
    {
     "name": "stdout",
     "output_type": "stream",
     "text": [
      "Enter radius:2\n",
      "12.566370614359172\n"
     ]
    }
   ],
   "source": [
    "import math\n",
    "r=float(input(\"Enter radius:\"))\n",
    "area=math.pi*(r**2)\n",
    "print(area)"
   ]
  },
  {
   "cell_type": "code",
   "execution_count": 8,
   "id": "8dcf80d2",
   "metadata": {},
   "outputs": [
    {
     "name": "stdout",
     "output_type": "stream",
     "text": [
      "Enter starting of interval:2\n",
      "Enter ending of interval:10\n",
      "[2, 3, 5, 7]\n"
     ]
    }
   ],
   "source": [
    "s=int(input(\"Enter starting of interval:\"))\n",
    "l=int(input(\"Enter ending of interval:\"))\n",
    "x=[]\n",
    "for i in range(s,l):\n",
    "    for j in range(2,i):\n",
    "        if(i%j==0):\n",
    "            break\n",
    "    else:\n",
    "        x.append(i)\n",
    "        \n",
    "print(x)"
   ]
  },
  {
   "cell_type": "code",
   "execution_count": 9,
   "id": "905b212e",
   "metadata": {},
   "outputs": [
    {
     "name": "stdout",
     "output_type": "stream",
     "text": [
      "Enter number:25\n",
      "Not prime\n"
     ]
    }
   ],
   "source": [
    "def prime(n):\n",
    "    for i in range(2,n):\n",
    "        if(n%i==0):\n",
    "            print(\"Not prime\")\n",
    "            break\n",
    "    else:\n",
    "        print(\"prime\")\n",
    "x=int(input(\"Enter number:\"))       \n",
    "prime(x)"
   ]
  },
  {
   "cell_type": "code",
   "execution_count": 10,
   "id": "11f8d971",
   "metadata": {},
   "outputs": [
    {
     "name": "stdout",
     "output_type": "stream",
     "text": [
      "Enter the number:5\n",
      "Fibonacci series:\n",
      "1\n",
      "1\n",
      "2\n",
      "3\n",
      "5\n"
     ]
    }
   ],
   "source": [
    "def fib(n):\n",
    "    n1,n2=1,1\n",
    "    print(n1)\n",
    "    print(n2)\n",
    "    for i in range(2,n):\n",
    "        nth=n1+n2\n",
    "        print(nth)\n",
    "        n1=n2\n",
    "        n2=nth\n",
    "x=int(input(\"Enter the number:\"))\n",
    "print(\"Fibonacci series:\")\n",
    "fib(x)"
   ]
  }
 ],
 "metadata": {
  "kernelspec": {
   "display_name": "Python 3 (ipykernel)",
   "language": "python",
   "name": "python3"
  },
  "language_info": {
   "codemirror_mode": {
    "name": "ipython",
    "version": 3
   },
   "file_extension": ".py",
   "mimetype": "text/x-python",
   "name": "python",
   "nbconvert_exporter": "python",
   "pygments_lexer": "ipython3",
   "version": "3.10.9"
  }
 },
 "nbformat": 4,
 "nbformat_minor": 5
}
