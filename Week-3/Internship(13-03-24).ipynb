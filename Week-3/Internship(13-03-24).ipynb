{
 "cells": [
  {
   "cell_type": "code",
   "execution_count": 13,
   "id": "7df51306",
   "metadata": {},
   "outputs": [
    {
     "name": "stdout",
     "output_type": "stream",
     "text": [
      "Enter a string:okay\n",
      "No, given string is not palindrome\n",
      "Reverse of the given string is: yako\n"
     ]
    }
   ],
   "source": [
    "def is_palindrome(s):\n",
    "    if(s[:]==s[::-1]):\n",
    "        return True\n",
    "    else:\n",
    "        return False\n",
    "    \n",
    "def get_vowelcount(s):\n",
    "    vowel_count=0\n",
    "    vowels=['a','e','i','o','u']\n",
    "    for i in s:\n",
    "        if(i in vowels):\n",
    "            vowel_count+=1\n",
    "    return vowel_count\n",
    "\n",
    "def get_consonentcount(s):\n",
    "    consonent_count=0\n",
    "    vowels=['a','e','i','o','u']\n",
    "    for i in s:\n",
    "        if(i not in vowels):\n",
    "            consonent_count+=1\n",
    "    return consonent_count\n",
    "\n",
    "def getReverseString(s):\n",
    "    return s[::-1]\n",
    "input_string=input(\"Enter a string:\")\n",
    "\n",
    "\n",
    "#main \n",
    "if(is_palindrome(input_string)==True):\n",
    "    print(\"Yes, given string is palindrome\")\n",
    "    print(\"Number of vowels:\",get_vowelcount(input_string))\n",
    "    print(\"Number of consonents:\",get_consonentcount(input_string))\n",
    "else:\n",
    "    print(\"No, given string is not palindrome\")\n",
    "    print(\"Reverse of the given string is:\",getReverseString(input_string))"
   ]
  },
  {
   "cell_type": "code",
   "execution_count": 37,
   "id": "d2276729",
   "metadata": {},
   "outputs": [
    {
     "name": "stdout",
     "output_type": "stream",
     "text": [
      "Enter a number:11\n",
      "Given number is prime\n",
      "2\n"
     ]
    }
   ],
   "source": [
    "def is_prime(n):\n",
    "    for i in range(2,n):\n",
    "        if(n%i!=0):\n",
    "            return True\n",
    "        else:\n",
    "            return False\n",
    "        \n",
    "def digit_sum(n):\n",
    "    sum_of_digits=0\n",
    "    while(n!=0):\n",
    "        digit=n%10\n",
    "        sum_of_digits +=digit\n",
    "        n=n//10\n",
    "    return sum_of_digits\n",
    "\n",
    "def factorial(n):\n",
    "    if n==0 or n==1:\n",
    "        return 1\n",
    "    else:\n",
    "        return n*factorial(n-1)\n",
    "    \n",
    "    \n",
    "#main\n",
    "number=int(input(\"Enter a number:\"))\n",
    "if is_prime(number)==True:\n",
    "    print(\"Given number is prime\")\n",
    "    print(digit_sum(number))\n",
    "else:\n",
    "    print(\"Given number is not prime\")\n",
    "    print(factorial(number))"
   ]
  },
  {
   "cell_type": "code",
   "execution_count": 30,
   "id": "540b5154",
   "metadata": {},
   "outputs": [
    {
     "name": "stdout",
     "output_type": "stream",
     "text": [
      "Enter a number:151\n",
      "Given number 151 is not an armstrong number\n"
     ]
    }
   ],
   "source": [
    "# Armstrong number\n",
    "def no_of_digits(n):\n",
    "    digit_count=0\n",
    "    while(n!=0):\n",
    "        n=n//10\n",
    "        digit_count +=1\n",
    "    return digit_count\n",
    "        \n",
    "def is_armstrong(n):\n",
    "    armstrong_sum=0\n",
    "    n_copy=n\n",
    "    while(n!=0):\n",
    "        digit=n%10\n",
    "        armstrong_sum+=digit**no_of_digits(n_copy)\n",
    "        n=n//10\n",
    "    return armstrong_sum\n",
    "\n",
    "#main\n",
    "num=int(input(\"Enter a number:\"))\n",
    "if(num==is_armstrong(num)):\n",
    "    print(\"Given number\",num,\"is an armstrong number\")\n",
    "else:\n",
    "    print(\"Given number\",num,\"is not an armstrong number\")"
   ]
  },
  {
   "cell_type": "code",
   "execution_count": 34,
   "id": "806246a7",
   "metadata": {},
   "outputs": [
    {
     "name": "stdout",
     "output_type": "stream",
     "text": [
      "Enter a number:4\n",
      "Given number 4 is not a perfect number\n"
     ]
    }
   ],
   "source": [
    "# perfect number\n",
    "def is_perfect(n):\n",
    "    divisor_sum=0\n",
    "    for i in range(1,n):\n",
    "        if(n%i==0):\n",
    "            divisor_sum+=i\n",
    "        else:\n",
    "            divisor_sum=divisor_sum\n",
    "    if(num==divisor_sum):\n",
    "        return True\n",
    "    else:\n",
    "        return False\n",
    "    \n",
    "    \n",
    "#main\n",
    "num=int(input(\"Enter a number:\"))\n",
    "if(is_perfect(num)==True):\n",
    "    print(\"Given number\",num,\"is a perfect number\")\n",
    "else:\n",
    "    print(\"Given number\",num,\"is not a perfect number\")"
   ]
  },
  {
   "cell_type": "code",
   "execution_count": 36,
   "id": "99536336",
   "metadata": {},
   "outputs": [
    {
     "name": "stdout",
     "output_type": "stream",
     "text": [
      "Enter a number:5\n",
      "Factorial of 5 is 120\n"
     ]
    }
   ],
   "source": [
    "# Factorial\n",
    "def factorial(n):\n",
    "    if n==0 or n==1:\n",
    "        return 1\n",
    "    else:\n",
    "        return n*factorial(n-1)\n",
    "\n",
    "#main\n",
    "num=int(input(\"Enter a number:\"))\n",
    "print(\"Factorial of\",num,\"is\",factorial(num))"
   ]
  },
  {
   "cell_type": "code",
   "execution_count": 41,
   "id": "db1c81c1",
   "metadata": {},
   "outputs": [
    {
     "name": "stdout",
     "output_type": "stream",
     "text": [
      "Enter a number:8\n",
      "0,1,1,2,3,5,8,13,"
     ]
    }
   ],
   "source": [
    "# Fibonacci sequence\n",
    "def fibonacci_sequence(n):\n",
    "    f1,f2=0,1\n",
    "    fs_list=[f1,f2]\n",
    "    for i in range(2,n):\n",
    "        fn=f1+f2\n",
    "        fs_list.append(fn)\n",
    "        f1=f2\n",
    "        f2=fn\n",
    "    for i in fs_list:\n",
    "        print(i,end=\",\")\n",
    "        \n",
    "#main\n",
    "num=int(input(\"Enter a number:\"))\n",
    "fibonacci_sequence(num)"
   ]
  },
  {
   "cell_type": "code",
   "execution_count": 51,
   "id": "d5ef4229",
   "metadata": {},
   "outputs": [
    {
     "name": "stdout",
     "output_type": "stream",
     "text": [
      "Enter number of rows in matrix A:2\n",
      "Enter number of columns in matrix A:2\n",
      "Enter values of matrix row wise:\n",
      "1\n",
      "1\n",
      "1\n",
      "1\n",
      "Enter number of rows in matrix B:2\n",
      "Enter number of columns in matrix B:1\n",
      "Enter values of matrix row wise:\n",
      "1\n",
      "1\n",
      "Matrix A: [[1, 1], [1, 1]]\n",
      "Matrix B: [[1], [1]]\n",
      "Matrix multiplication of given matrices A and B is [[2], [2]]\n"
     ]
    }
   ],
   "source": [
    "# Matrix multiplication\n",
    "def matrix_multiplication(A,B):\n",
    "    res=[[0 for j in range(len(B[0]))] for i in range(len(A))]\n",
    "    for i in range(len(A)):\n",
    "        for j in range(len(B[0])):\n",
    "            for k in range(len(B)):\n",
    "                res[i][j]+=A[i][k]*B[k][j]\n",
    "    return res\n",
    "\n",
    "#taking matrix A from user\n",
    "no_of_rows_A=int(input(\"Enter number of rows in matrix A:\"))\n",
    "no_of_columns_A=int(input(\"Enter number of columns in matrix A:\"))\n",
    "print(\"Enter values of matrix row wise:\")\n",
    "A = [[int(input()) for x in range (no_of_columns_A)] for y in range(no_of_rows_A)]\n",
    "\n",
    "#taking matrix B from user\n",
    "no_of_rows_B=int(input(\"Enter number of rows in matrix B:\"))\n",
    "no_of_columns_B=int(input(\"Enter number of columns in matrix B:\"))\n",
    "print(\"Enter values of matrix row wise:\")\n",
    "B = [[int(input()) for x in range (no_of_columns_B)] for y in range(no_of_rows_B)]\n",
    "\n",
    "#main\n",
    "if(no_of_columns_A==no_of_rows_B):\n",
    "    print(\"Matrix A:\",A)\n",
    "    print(\"Matrix B:\",B)\n",
    "    print(\"Matrix multiplication of given matrices A and B is\",matrix_multiplication(A,B))\n",
    "else:\n",
    "    print(\"Invalid matrix dimensions. Please enter the matrices such that no.of columns in first matrix is equal to no.of rows in second matrix\")"
   ]
  },
  {
   "cell_type": "code",
   "execution_count": 58,
   "id": "29c7075f",
   "metadata": {},
   "outputs": [
    {
     "name": "stdout",
     "output_type": "stream",
     "text": [
      "Enter the number to search:4\n",
      "4 is not present in the given list\n"
     ]
    }
   ],
   "source": [
    "# Linear search\n",
    "def linear_search(list1,num):\n",
    "    for i in list1:\n",
    "        if(i==num):\n",
    "            return list1.index(i)\n",
    "    return -1\n",
    "\n",
    "#main\n",
    "list1=[1,20,3,65,85,93]\n",
    "num=int(input(\"Enter the number to search:\"))\n",
    "if(linear_search(list1,num)!=-1):\n",
    "    print(num,\"is present at the index\",linear_search(list1,num),\"in the given list\") \n",
    "else:\n",
    "     print(num,\"is not present in the given list\")"
   ]
  },
  {
   "cell_type": "code",
   "execution_count": 62,
   "id": "49abaa2c",
   "metadata": {},
   "outputs": [
    {
     "name": "stdout",
     "output_type": "stream",
     "text": [
      "Enter a number to search:17\n",
      "Element is pressent at index 2\n"
     ]
    }
   ],
   "source": [
    "# Binary search\n",
    "def binary_search(list1,n):\n",
    "    low=0\n",
    "    high=len(list1)-1\n",
    "    mid=0\n",
    "    while low<=high:\n",
    "        mid=(low+high)//2\n",
    "        if list1[mid]==n:\n",
    "            return mid\n",
    "        elif list1[mid]>n:\n",
    "            high=mid-1\n",
    "        else:\n",
    "            low=mid+1\n",
    "    return -1\n",
    "\n",
    "#main\n",
    "list1=[6,12,17,23,38,45,77,84,90]\n",
    "num=int(input(\"Enter a number to search:\"))\n",
    "res= binary_search(list1,num)\n",
    "if res!=-1:\n",
    "    print(\"Element is pressent at index\",res)\n",
    "else:\n",
    "    print(\"Element is not present in list1\")"
   ]
  },
  {
   "cell_type": "code",
   "execution_count": 77,
   "id": "892e6924",
   "metadata": {},
   "outputs": [
    {
     "name": "stdout",
     "output_type": "stream",
     "text": [
      "Original list: [5, 2, 3]\n",
      "Sorted list: [2, 3, 5]\n"
     ]
    }
   ],
   "source": [
    "# sorting of list\n",
    "def sorted_list(list1):\n",
    "    for i in range(len(list1)):\n",
    "        for j in range(i+1,len(list1)):\n",
    "            if(list1[i]>=list1[j]):\n",
    "                list1[i],list1[j]=list1[j],list1[i]\n",
    "    return list1\n",
    "list1=[5,2,3]\n",
    "print(\"Original list:\",list1)\n",
    "print(\"Sorted list:\",sorted_list(list1))"
   ]
  },
  {
   "cell_type": "code",
   "execution_count": 90,
   "id": "ec7766a0",
   "metadata": {},
   "outputs": [
    {
     "name": "stdout",
     "output_type": "stream",
     "text": [
      "Enter year:2023\n",
      "2023 is not leap year\n"
     ]
    }
   ],
   "source": [
    "# Leap year\n",
    "def is_LeapYear(y):\n",
    "    if(y%100==0 and y%400==0):\n",
    "        return 1\n",
    "    elif(y%100!=0 and y%4==0):\n",
    "        return 1\n",
    "    else:\n",
    "        return -1\n",
    "\n",
    "#main \n",
    "year=int(input(\"Enter year:\"))\n",
    "if(is_LeapYear(year)==1):\n",
    "    print(year,\"is leap year\")\n",
    "else:\n",
    "    print(year,\"is not leap year\")"
   ]
  },
  {
   "cell_type": "code",
   "execution_count": 5,
   "id": "7a20cf88",
   "metadata": {},
   "outputs": [
    {
     "name": "stdout",
     "output_type": "stream",
     "text": [
      "Enter a number:13\n",
      "13 is a happy number\n"
     ]
    }
   ],
   "source": [
    "# Happy number\n",
    "def is_happy(n):\n",
    "    if(n==1 or n==7):\n",
    "        return True\n",
    "    else:\n",
    "        sum_of_digits=n\n",
    "        x=n\n",
    "        while sum_of_digits>9:\n",
    "            sum_of_digits=0\n",
    "            while(x!=0):\n",
    "                digit=x%10\n",
    "                sum_of_digits +=digit**2\n",
    "                x=x//10\n",
    "            if sum_of_digits==1:\n",
    "                return True\n",
    "            x=sum_of_digits\n",
    "        if sum_of_digits==7:\n",
    "            return True\n",
    "        return False\n",
    "\n",
    "#main\n",
    "num=int(input(\"Enter a number:\"))    \n",
    "if(is_happy(num)==True):\n",
    "    print(num,\"is a happy number\")\n",
    "else:\n",
    "    print(num,\"is not a happy number\")"
   ]
  },
  {
   "cell_type": "code",
   "execution_count": 84,
   "id": "148c2af2",
   "metadata": {},
   "outputs": [
    {
     "name": "stdout",
     "output_type": "stream",
     "text": [
      "Duplicates present in the given list: [3, 5]\n"
     ]
    }
   ],
   "source": [
    "# Duplicates of a list\n",
    "def list_duplicates(l):\n",
    "    duplicates_of_list=[]\n",
    "    for i in range(len(l)):\n",
    "        for j in range(i+1,len(l)):\n",
    "            if(l[i]==l[j]):\n",
    "                duplicates_of_list.append(l[i])\n",
    "    return duplicates_of_list\n",
    "\n",
    "list1=[1,11,2,3,3,5,69,5]\n",
    "print(\"Duplicates present in the given list:\",list_duplicates(list1))"
   ]
  },
  {
   "cell_type": "code",
   "execution_count": 120,
   "id": "4e24b8ca",
   "metadata": {},
   "outputs": [
    {
     "name": "stdout",
     "output_type": "stream",
     "text": [
      "Original list: [1, 11, 2, 3, 3, 5, 69, 5]\n",
      "List after removing duplicates: [1, 11, 2, 3, 69, 5]\n"
     ]
    }
   ],
   "source": [
    "# Removing duplicates from the given list\n",
    "def element_count(l,ele):\n",
    "    count=0\n",
    "    for i in l:\n",
    "        if(i==ele):\n",
    "            count+=1\n",
    "    return count\n",
    "        \n",
    "def remove_duplicates(l):\n",
    "    for i in l:\n",
    "        if(element_count(l,i)>1):\n",
    "            l.remove(i)\n",
    "    return l\n",
    "\n",
    "#main\n",
    "list1=[1,11,2,3,3,5,69,5]\n",
    "print(\"Original list:\",list1)\n",
    "print(\"List after removing duplicates:\",remove_duplicates(list1))"
   ]
  },
  {
   "cell_type": "code",
   "execution_count": 13,
   "id": "a5bbd609",
   "metadata": {},
   "outputs": [
    {
     "name": "stdout",
     "output_type": "stream",
     "text": [
      " Enter the first number: 36\n",
      " Enter the second number: 60\n",
      "GCD of two number is:  12\n"
     ]
    }
   ],
   "source": [
    "def GCD_Loop( a, b):  \n",
    "    if a > b:  \n",
    "        for i in range(1, a + 1):  \n",
    "            if (( a % i == 0) and (b % i == 0 )):  \n",
    "                gcd = i  \n",
    "    else:\n",
    "        for i in range(1, b + 1):  \n",
    "            if (( a % i == 0) and (b % i == 0 )):  \n",
    "                gcd = i \n",
    "    return gcd  \n",
    "x = int(input (\" Enter the first number: \") )    \n",
    "y =int (input (\" Enter the second number: \"))   \n",
    "num = GCD_Loop(x, y)  \n",
    "print(\"GCD of two number is: \",num)    "
   ]
  },
  {
   "cell_type": "code",
   "execution_count": 12,
   "id": "21a3d90e",
   "metadata": {},
   "outputs": [
    {
     "name": "stdout",
     "output_type": "stream",
     "text": [
      "12\n"
     ]
    }
   ],
   "source": [
    "def gcd(n1,n2):\n",
    "    n1_factors=[]\n",
    "    n2_factors=[]\n",
    "    common_factors=[]\n",
    "    for i in range(2,n1):\n",
    "        if(n1%i==0):\n",
    "            n1_factors.append(i)\n",
    "    for i in range(2,n2):\n",
    "        if(n2%i==0):\n",
    "            n2_factors.append(i)\n",
    "    for i in n1_factors:\n",
    "        for j in n2_factors:\n",
    "            if(i==j):\n",
    "                common_factors.append(i)\n",
    "    return max(common_factors)\n",
    "print(gcd(36,60))"
   ]
  },
  {
   "cell_type": "code",
   "execution_count": 14,
   "id": "0fd35352",
   "metadata": {},
   "outputs": [
    {
     "name": "stdout",
     "output_type": "stream",
     "text": [
      "30\n"
     ]
    }
   ],
   "source": [
    "def lcm(n1,n2):\n",
    "    n1_factors=[]\n",
    "    n2_factors=[]\n",
    "    for i in range(2,n1):\n",
    "        if(n1%i==0):\n",
    "            n1_factors.append(i)\n",
    "    for i in range(2,n2):\n",
    "        if(n2%i==0):\n",
    "            n2_factors.append(i)\n",
    "    s1=set(n1_factors)\n",
    "    s2=set(n2_factors)\n",
    "    res=s1.union(s2)\n",
    "    m=1\n",
    "    for i in res:\n",
    "        m=m*i\n",
    "    return m\n",
    "print(lcm(6,15))"
   ]
  },
  {
   "cell_type": "code",
   "execution_count": 16,
   "id": "511010db",
   "metadata": {},
   "outputs": [
    {
     "name": "stdout",
     "output_type": "stream",
     "text": [
      "Enter number of rows in matrix A:3\n",
      "Enter number of columns in matrix A:2\n",
      "Enter values of matrix row wise:\n",
      "1\n",
      "2\n",
      "4\n",
      "5\n",
      "8\n",
      "9\n",
      "Given matrix: [[1, 2], [4, 5], [8, 9]]\n",
      "Transpose of given matrix: [[1, 4, 8], [2, 5, 9]]\n"
     ]
    }
   ],
   "source": [
    "# Transpose of matrix\n",
    "def transpose(A):\n",
    "    transposed_matrix=[[0 for j in range(len(A))] for i in range(len(A[0]))]\n",
    "    for i in range(len(A[0])):\n",
    "        for j in range(len(A)):\n",
    "            transposed_matrix[i][j]=A[j][i]\n",
    "    return transposed_matrix\n",
    "\n",
    "#taking matrix A from user\n",
    "no_of_rows_A=int(input(\"Enter number of rows in matrix A:\"))\n",
    "no_of_columns_A=int(input(\"Enter number of columns in matrix A:\"))\n",
    "print(\"Enter values of matrix row wise:\")\n",
    "A = [[int(input()) for x in range (no_of_columns_A)] for y in range(no_of_rows_A)]\n",
    "print(\"Given matrix:\",A)\n",
    "print(\"Transpose of given matrix:\",transpose(A))"
   ]
  },
  {
   "cell_type": "code",
   "execution_count": null,
   "id": "7c297d00",
   "metadata": {},
   "outputs": [],
   "source": []
  }
 ],
 "metadata": {
  "kernelspec": {
   "display_name": "Python 3 (ipykernel)",
   "language": "python",
   "name": "python3"
  },
  "language_info": {
   "codemirror_mode": {
    "name": "ipython",
    "version": 3
   },
   "file_extension": ".py",
   "mimetype": "text/x-python",
   "name": "python",
   "nbconvert_exporter": "python",
   "pygments_lexer": "ipython3",
   "version": "3.10.9"
  }
 },
 "nbformat": 4,
 "nbformat_minor": 5
}
